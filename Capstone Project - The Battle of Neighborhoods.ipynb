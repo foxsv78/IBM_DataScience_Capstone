{
    "nbformat_minor": 1, 
    "cells": [
        {
            "source": "# Capstone Project - The Battle of Neighborhoods", 
            "cell_type": "markdown", 
            "metadata": {
                "collapsed": true
            }
        }, 
        {
            "source": "Introduction/Business Problem:\n    City crime rates are a metric used in attracting new residents, has implications for schools, real estate prices, and general safety and wellbeing of the city's population.  City governments are interested in reducing crime rates in order to attact new residents which in turn will generate more tax revenue from income and spending.  A potential means for decreasing crime rate is to look what businesses tend to be in businesses with higher crime rates can compare to cities with lower crime rates.  As potential business space becomes available within a high-crime city, the city's government could try and lure specific business types in hope to try and mimic a business distribution similar to that of a lower-crime city.", 
            "cell_type": "markdown", 
            "metadata": {}
        }, 
        {
            "source": "Data: Data will be scraped from Numbeo.com, a website that aggregates crime data for 300+ cities around the world.  For those cities, I will use Google Geocoding API to obtain latitude and longitude values.  I will then use Foursquare to obtain a list of businesses within the city limits and calculate the frequency of each business type.  I will then cluster the cities together based on business frequency and crime index.  Ideally there will be a pattern that will emerge of cities with lower crime indices with certain types of businesses while cities with higher crime indices will have a different set of businesses.", 
            "cell_type": "markdown", 
            "metadata": {}
        }, 
        {
            "source": "#https://www.numbeo.com/crime/rankings_current.jsp", 
            "cell_type": "code", 
            "metadata": {}, 
            "outputs": [], 
            "execution_count": 1
        }, 
        {
            "source": "import requests\nimport pandas as pd\nfrom bs4 import BeautifulSoup\n\n\nwebsite_url = requests.get('https://www.numbeo.com/crime/rankings_current.jsp').text\nsoup = BeautifulSoup(website_url,'lxml')\n\n", 
            "cell_type": "code", 
            "metadata": {}, 
            "outputs": [], 
            "execution_count": 2
        }, 
        {
            "source": "#soup", 
            "cell_type": "code", 
            "metadata": {}, 
            "outputs": [], 
            "execution_count": 3
        }, 
        {
            "source": "My_table = soup.find('table',{'class':'stripe row-border order-column compact'})\n#My_table\n\n", 
            "cell_type": "code", 
            "metadata": {}, 
            "outputs": [], 
            "execution_count": 4
        }, 
        {
            "source": "print('Wikipedia Table located')\n\nlinks = My_table.findAll('td')\n#links\n\n#print('Wikipedia Table-Elements located')\n\n", 
            "cell_type": "code", 
            "metadata": {}, 
            "outputs": [
                {
                    "output_type": "stream", 
                    "name": "stdout", 
                    "text": "Wikipedia Table located\n"
                }
            ], 
            "execution_count": 5
        }, 
        {
            "source": "City = []\nCrimeIdx = []\nSafetyIdx = []\ni = 0\nfor link in links:\n    i = i+1\n    if i == 2:\n        City.append(link.text)\n    elif i == 3:\n        CrimeIdx.append(link.text)\n    elif i == 4:\n        SafetyIdx.append(link.text.replace(\"\\n\",\"\"))\n        i = 0\n\n#print(City)\n#print(CrimeIdx)\n#print(SafetyIdx)\n", 
            "cell_type": "code", 
            "metadata": {}, 
            "outputs": [], 
            "execution_count": 6
        }, 
        {
            "source": "crime_df = pd.DataFrame({'City':City,'CrimeIdx':CrimeIdx,'SafetyIdx':SafetyIdx})\ncrime_df = crime_df.reindex(['City','CrimeIdx','SafetyIdx'], axis=1)\n\ncrime_df\n", 
            "cell_type": "code", 
            "metadata": {}, 
            "outputs": [
                {
                    "output_type": "execute_result", 
                    "data": {
                        "text/plain": "                                   City CrimeIdx SafetyIdx\n0                    Caracas, Venezuela    83.10     16.90\n1              San Pedro Sula, Honduras    82.47     17.53\n2        Pietermaritzburg, South Africa    82.35     17.65\n3                     Fortaleza, Brazil    80.50     19.50\n4                Pretoria, South Africa    80.47     19.53\n5            Johannesburg, South Africa    80.28     19.72\n6        Port Moresby, Papua New Guinea    79.95     20.05\n7                      Salvador, Brazil    79.75     20.25\n8                  Durban, South Africa    79.64     20.36\n9                        Recife, Brazil    78.60     21.40\n10                 Porto Alegre, Brazil    77.96     22.04\n11               Rio de Janeiro, Brazil    77.89     22.11\n12   Port of Spain, Trinidad And Tobago    76.90     23.10\n13         Port Elizabeth, South Africa    75.98     24.02\n14                   Almaty, Kazakhstan    72.36     27.64\n15            San Salvador, El Salvador    72.15     27.85\n16                    Sao Paulo, Brazil    71.87     28.13\n17           Detroit, MI, United States    71.84     28.16\n18                    Windhoek, Namibia    71.45     28.55\n19         Baltimore, MD, United States    71.25     28.75\n20              Cape Town, South Africa    69.87     30.13\n21                San Juan, Puerto Rico    69.82     30.18\n22       Albuquerque, NM, United States    68.78     31.22\n23                           Lima, Peru    68.54     31.46\n24                    Kingston, Jamaica    68.47     31.53\n25    Santo Domingo, Dominican Republic    68.34     31.66\n26                  Mexico City, Mexico    68.09     31.91\n27                     Campinas, Brazil    67.17     32.83\n28       Saint Louis, MO, United States    67.16     32.84\n29                    Dhaka, Bangladesh    67.11     32.89\n..                                  ...      ...       ...\n292                      Minsk, Belarus    24.12     75.88\n293                 Copenhagen, Denmark    23.83     76.17\n294                       Bursa, Turkey    23.58     76.42\n295                 Ljubljana, Slovenia    22.76     77.24\n296                      Merida, Mexico    22.74     77.26\n297                     Vienna, Austria    22.59     77.41\n298                   Helsinki, Finland    22.58     77.42\n299                    Yerevan, Armenia    22.37     77.63\n300                Singapore, Singapore    22.24     77.76\n301                   Trondheim, Norway    22.04     77.96\n302                    Aalborg, Denmark    21.39     78.61\n303                Cluj-Napoca, Romania    21.36     78.64\n304                 Canberra, Australia    21.14     78.86\n305                  Reykjavik, Iceland    20.62     79.38\n306                    Tallinn, Estonia    20.52     79.48\n307                    Tbilisi, Georgia    19.61     80.39\n308                Hong Kong, Hong Kong    19.32     80.68\n309                 Zurich, Switzerland    18.27     81.73\n310                     Rijeka, Croatia    18.04     81.96\n311                   Eskisehir, Turkey    17.19     82.81\n312                  Basel, Switzerland    17.13     82.87\n313           Irvine, CA, United States    17.08     82.92\n314         Dubai, United Arab Emirates    16.92     83.08\n315                     Munich, Germany    16.91     83.09\n316                        Tokyo, Japan    16.54     83.46\n317                      Taipei, Taiwan    15.76     84.24\n318                        Osaka, Japan    15.07     84.93\n319                 Quebec City, Canada    14.72     85.28\n320                         Doha, Qatar    12.41     87.59\n321     Abu Dhabi, United Arab Emirates    11.44     88.56\n\n[322 rows x 3 columns]", 
                        "text/html": "<div>\n<style scoped>\n    .dataframe tbody tr th:only-of-type {\n        vertical-align: middle;\n    }\n\n    .dataframe tbody tr th {\n        vertical-align: top;\n    }\n\n    .dataframe thead th {\n        text-align: right;\n    }\n</style>\n<table border=\"1\" class=\"dataframe\">\n  <thead>\n    <tr style=\"text-align: right;\">\n      <th></th>\n      <th>City</th>\n      <th>CrimeIdx</th>\n      <th>SafetyIdx</th>\n    </tr>\n  </thead>\n  <tbody>\n    <tr>\n      <th>0</th>\n      <td>Caracas, Venezuela</td>\n      <td>83.10</td>\n      <td>16.90</td>\n    </tr>\n    <tr>\n      <th>1</th>\n      <td>San Pedro Sula, Honduras</td>\n      <td>82.47</td>\n      <td>17.53</td>\n    </tr>\n    <tr>\n      <th>2</th>\n      <td>Pietermaritzburg, South Africa</td>\n      <td>82.35</td>\n      <td>17.65</td>\n    </tr>\n    <tr>\n      <th>3</th>\n      <td>Fortaleza, Brazil</td>\n      <td>80.50</td>\n      <td>19.50</td>\n    </tr>\n    <tr>\n      <th>4</th>\n      <td>Pretoria, South Africa</td>\n      <td>80.47</td>\n      <td>19.53</td>\n    </tr>\n    <tr>\n      <th>5</th>\n      <td>Johannesburg, South Africa</td>\n      <td>80.28</td>\n      <td>19.72</td>\n    </tr>\n    <tr>\n      <th>6</th>\n      <td>Port Moresby, Papua New Guinea</td>\n      <td>79.95</td>\n      <td>20.05</td>\n    </tr>\n    <tr>\n      <th>7</th>\n      <td>Salvador, Brazil</td>\n      <td>79.75</td>\n      <td>20.25</td>\n    </tr>\n    <tr>\n      <th>8</th>\n      <td>Durban, South Africa</td>\n      <td>79.64</td>\n      <td>20.36</td>\n    </tr>\n    <tr>\n      <th>9</th>\n      <td>Recife, Brazil</td>\n      <td>78.60</td>\n      <td>21.40</td>\n    </tr>\n    <tr>\n      <th>10</th>\n      <td>Porto Alegre, Brazil</td>\n      <td>77.96</td>\n      <td>22.04</td>\n    </tr>\n    <tr>\n      <th>11</th>\n      <td>Rio de Janeiro, Brazil</td>\n      <td>77.89</td>\n      <td>22.11</td>\n    </tr>\n    <tr>\n      <th>12</th>\n      <td>Port of Spain, Trinidad And Tobago</td>\n      <td>76.90</td>\n      <td>23.10</td>\n    </tr>\n    <tr>\n      <th>13</th>\n      <td>Port Elizabeth, South Africa</td>\n      <td>75.98</td>\n      <td>24.02</td>\n    </tr>\n    <tr>\n      <th>14</th>\n      <td>Almaty, Kazakhstan</td>\n      <td>72.36</td>\n      <td>27.64</td>\n    </tr>\n    <tr>\n      <th>15</th>\n      <td>San Salvador, El Salvador</td>\n      <td>72.15</td>\n      <td>27.85</td>\n    </tr>\n    <tr>\n      <th>16</th>\n      <td>Sao Paulo, Brazil</td>\n      <td>71.87</td>\n      <td>28.13</td>\n    </tr>\n    <tr>\n      <th>17</th>\n      <td>Detroit, MI, United States</td>\n      <td>71.84</td>\n      <td>28.16</td>\n    </tr>\n    <tr>\n      <th>18</th>\n      <td>Windhoek, Namibia</td>\n      <td>71.45</td>\n      <td>28.55</td>\n    </tr>\n    <tr>\n      <th>19</th>\n      <td>Baltimore, MD, United States</td>\n      <td>71.25</td>\n      <td>28.75</td>\n    </tr>\n    <tr>\n      <th>20</th>\n      <td>Cape Town, South Africa</td>\n      <td>69.87</td>\n      <td>30.13</td>\n    </tr>\n    <tr>\n      <th>21</th>\n      <td>San Juan, Puerto Rico</td>\n      <td>69.82</td>\n      <td>30.18</td>\n    </tr>\n    <tr>\n      <th>22</th>\n      <td>Albuquerque, NM, United States</td>\n      <td>68.78</td>\n      <td>31.22</td>\n    </tr>\n    <tr>\n      <th>23</th>\n      <td>Lima, Peru</td>\n      <td>68.54</td>\n      <td>31.46</td>\n    </tr>\n    <tr>\n      <th>24</th>\n      <td>Kingston, Jamaica</td>\n      <td>68.47</td>\n      <td>31.53</td>\n    </tr>\n    <tr>\n      <th>25</th>\n      <td>Santo Domingo, Dominican Republic</td>\n      <td>68.34</td>\n      <td>31.66</td>\n    </tr>\n    <tr>\n      <th>26</th>\n      <td>Mexico City, Mexico</td>\n      <td>68.09</td>\n      <td>31.91</td>\n    </tr>\n    <tr>\n      <th>27</th>\n      <td>Campinas, Brazil</td>\n      <td>67.17</td>\n      <td>32.83</td>\n    </tr>\n    <tr>\n      <th>28</th>\n      <td>Saint Louis, MO, United States</td>\n      <td>67.16</td>\n      <td>32.84</td>\n    </tr>\n    <tr>\n      <th>29</th>\n      <td>Dhaka, Bangladesh</td>\n      <td>67.11</td>\n      <td>32.89</td>\n    </tr>\n    <tr>\n      <th>...</th>\n      <td>...</td>\n      <td>...</td>\n      <td>...</td>\n    </tr>\n    <tr>\n      <th>292</th>\n      <td>Minsk, Belarus</td>\n      <td>24.12</td>\n      <td>75.88</td>\n    </tr>\n    <tr>\n      <th>293</th>\n      <td>Copenhagen, Denmark</td>\n      <td>23.83</td>\n      <td>76.17</td>\n    </tr>\n    <tr>\n      <th>294</th>\n      <td>Bursa, Turkey</td>\n      <td>23.58</td>\n      <td>76.42</td>\n    </tr>\n    <tr>\n      <th>295</th>\n      <td>Ljubljana, Slovenia</td>\n      <td>22.76</td>\n      <td>77.24</td>\n    </tr>\n    <tr>\n      <th>296</th>\n      <td>Merida, Mexico</td>\n      <td>22.74</td>\n      <td>77.26</td>\n    </tr>\n    <tr>\n      <th>297</th>\n      <td>Vienna, Austria</td>\n      <td>22.59</td>\n      <td>77.41</td>\n    </tr>\n    <tr>\n      <th>298</th>\n      <td>Helsinki, Finland</td>\n      <td>22.58</td>\n      <td>77.42</td>\n    </tr>\n    <tr>\n      <th>299</th>\n      <td>Yerevan, Armenia</td>\n      <td>22.37</td>\n      <td>77.63</td>\n    </tr>\n    <tr>\n      <th>300</th>\n      <td>Singapore, Singapore</td>\n      <td>22.24</td>\n      <td>77.76</td>\n    </tr>\n    <tr>\n      <th>301</th>\n      <td>Trondheim, Norway</td>\n      <td>22.04</td>\n      <td>77.96</td>\n    </tr>\n    <tr>\n      <th>302</th>\n      <td>Aalborg, Denmark</td>\n      <td>21.39</td>\n      <td>78.61</td>\n    </tr>\n    <tr>\n      <th>303</th>\n      <td>Cluj-Napoca, Romania</td>\n      <td>21.36</td>\n      <td>78.64</td>\n    </tr>\n    <tr>\n      <th>304</th>\n      <td>Canberra, Australia</td>\n      <td>21.14</td>\n      <td>78.86</td>\n    </tr>\n    <tr>\n      <th>305</th>\n      <td>Reykjavik, Iceland</td>\n      <td>20.62</td>\n      <td>79.38</td>\n    </tr>\n    <tr>\n      <th>306</th>\n      <td>Tallinn, Estonia</td>\n      <td>20.52</td>\n      <td>79.48</td>\n    </tr>\n    <tr>\n      <th>307</th>\n      <td>Tbilisi, Georgia</td>\n      <td>19.61</td>\n      <td>80.39</td>\n    </tr>\n    <tr>\n      <th>308</th>\n      <td>Hong Kong, Hong Kong</td>\n      <td>19.32</td>\n      <td>80.68</td>\n    </tr>\n    <tr>\n      <th>309</th>\n      <td>Zurich, Switzerland</td>\n      <td>18.27</td>\n      <td>81.73</td>\n    </tr>\n    <tr>\n      <th>310</th>\n      <td>Rijeka, Croatia</td>\n      <td>18.04</td>\n      <td>81.96</td>\n    </tr>\n    <tr>\n      <th>311</th>\n      <td>Eskisehir, Turkey</td>\n      <td>17.19</td>\n      <td>82.81</td>\n    </tr>\n    <tr>\n      <th>312</th>\n      <td>Basel, Switzerland</td>\n      <td>17.13</td>\n      <td>82.87</td>\n    </tr>\n    <tr>\n      <th>313</th>\n      <td>Irvine, CA, United States</td>\n      <td>17.08</td>\n      <td>82.92</td>\n    </tr>\n    <tr>\n      <th>314</th>\n      <td>Dubai, United Arab Emirates</td>\n      <td>16.92</td>\n      <td>83.08</td>\n    </tr>\n    <tr>\n      <th>315</th>\n      <td>Munich, Germany</td>\n      <td>16.91</td>\n      <td>83.09</td>\n    </tr>\n    <tr>\n      <th>316</th>\n      <td>Tokyo, Japan</td>\n      <td>16.54</td>\n      <td>83.46</td>\n    </tr>\n    <tr>\n      <th>317</th>\n      <td>Taipei, Taiwan</td>\n      <td>15.76</td>\n      <td>84.24</td>\n    </tr>\n    <tr>\n      <th>318</th>\n      <td>Osaka, Japan</td>\n      <td>15.07</td>\n      <td>84.93</td>\n    </tr>\n    <tr>\n      <th>319</th>\n      <td>Quebec City, Canada</td>\n      <td>14.72</td>\n      <td>85.28</td>\n    </tr>\n    <tr>\n      <th>320</th>\n      <td>Doha, Qatar</td>\n      <td>12.41</td>\n      <td>87.59</td>\n    </tr>\n    <tr>\n      <th>321</th>\n      <td>Abu Dhabi, United Arab Emirates</td>\n      <td>11.44</td>\n      <td>88.56</td>\n    </tr>\n  </tbody>\n</table>\n<p>322 rows \u00d7 3 columns</p>\n</div>"
                    }, 
                    "execution_count": 7, 
                    "metadata": {}
                }
            ], 
            "execution_count": 7
        }, 
        {
            "source": "!conda install -c conda-forge folium=0.5.0 --yes \n\n", 
            "cell_type": "code", 
            "metadata": {}, 
            "outputs": [
                {
                    "output_type": "stream", 
                    "name": "stdout", 
                    "text": "Fetching package metadata .............\nSolving package specifications: .\n\nPackage plan for installation in environment /opt/conda/envs/DSX-Python35:\n\nThe following NEW packages will be INSTALLED:\n\n    altair:  2.2.2-py35_1 conda-forge\n    branca:  0.3.1-py_0   conda-forge\n    folium:  0.5.0-py_0   conda-forge\n    vincent: 0.4.4-py_1   conda-forge\n\naltair-2.2.2-p 100% |################################| Time: 0:00:00  54.91 MB/s\nbranca-0.3.1-p 100% |################################| Time: 0:00:00  34.21 MB/s\nvincent-0.4.4- 100% |################################| Time: 0:00:00  38.85 MB/s\nfolium-0.5.0-p 100% |################################| Time: 0:00:00  45.30 MB/s\n"
                }
            ], 
            "execution_count": 8
        }, 
        {
            "source": "import folium\nimport matplotlib.cm as cm\nimport matplotlib.colors as colors\n#from geopy.geocoders import Nominatim\n\n#address = 'Toronto, Canada'\n\n#geolocator = Nominatim()\n#location = geolocator.geocode(address)\n#latitude = location.latitude\n#longitude = location.longitude\n\nmap = folium.Map(location=[100, 0], zoom_start=1.5)\n\n# add markers to map\n#for lat, lng, borough, neighborhood in zip(toronto_df_geocode['Latitude'], toronto_df_geocode['Longitude'], toronto_df_geocode['Borough'], toronto_df_geocode['Neighborhoods']):\n#    label = '{}, {}'.format(neighborhood, borough)\n#    label = folium.Popup(label, parse_html=True)\n#    folium.CircleMarker(\n#        [lat, lng],\n#        radius=5,\n#        popup=label,\n#        color='blue',\n#        fill=True,\n#        fill_color='#3186cc',\n#        fill_opacity=0.7,\n#        parse_html=False).add_to(map_toronto)  \n    \nmap", 
            "cell_type": "code", 
            "metadata": {}, 
            "outputs": [
                {
                    "output_type": "execute_result", 
                    "data": {
                        "text/plain": "<folium.folium.Map at 0x7f1d30ff6a58>", 
                        "text/html": "<div style=\"width:100%;\"><div style=\"position:relative;width:100%;height:0;padding-bottom:60%;\"><iframe src=\"data:text/html;charset=utf-8;base64,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\" style=\"position:absolute;width:100%;height:100%;left:0;top:0;border:none !important;\" allowfullscreen webkitallowfullscreen mozallowfullscreen></iframe></div></div>"
                    }, 
                    "execution_count": 9, 
                    "metadata": {}
                }
            ], 
            "execution_count": 9
        }
    ], 
    "metadata": {
        "kernelspec": {
            "display_name": "Python 3.5", 
            "name": "python3", 
            "language": "python"
        }, 
        "language_info": {
            "mimetype": "text/x-python", 
            "nbconvert_exporter": "python", 
            "version": "3.5.5", 
            "name": "python", 
            "file_extension": ".py", 
            "pygments_lexer": "ipython3", 
            "codemirror_mode": {
                "version": 3, 
                "name": "ipython"
            }
        }
    }, 
    "nbformat": 4
}